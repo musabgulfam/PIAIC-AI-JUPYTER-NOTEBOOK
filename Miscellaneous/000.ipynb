{
 "cells": [
  {
   "cell_type": "code",
   "execution_count": 5,
   "metadata": {},
   "outputs": [
    {
     "name": "stdout",
     "output_type": "stream",
     "text": [
      "Enter the weight : 350\n",
      "Enter the time : 5\n"
     ]
    }
   ],
   "source": [
    "weight = int(input(\"Enter the weight : \"))\n",
    "time = int(input(\"Enter the time : \"))\n",
    "if weight > 300 and time < 6:\n",
    "   status = \"try to recruit him\""
   ]
  },
  {
   "cell_type": "code",
   "execution_count": null,
   "metadata": {},
   "outputs": [],
   "source": []
  }
 ],
 "metadata": {
  "kernelspec": {
   "display_name": "Python 3",
   "language": "python",
   "name": "python3"
  },
  "language_info": {
   "codemirror_mode": {
    "name": "ipython",
    "version": 3
   },
   "file_extension": ".py",
   "mimetype": "text/x-python",
   "name": "python",
   "nbconvert_exporter": "python",
   "pygments_lexer": "ipython3",
   "version": "3.7.3"
  }
 },
 "nbformat": 4,
 "nbformat_minor": 2
}
