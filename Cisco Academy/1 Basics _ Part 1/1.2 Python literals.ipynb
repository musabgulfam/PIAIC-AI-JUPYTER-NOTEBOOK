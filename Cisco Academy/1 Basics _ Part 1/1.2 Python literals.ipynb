{
 "cells": [
  {
   "cell_type": "markdown",
   "metadata": {},
   "source": [
    "## 1.2.6 Literals – integers\n",
    " \n",
    "\n",
    "There are two additional conventions in Python that are unknown to the world of mathematics. The first allows us to use numbers in an octal representation.\n",
    "\n",
    "If an integer number is preceded by an 0O or 0o prefix (zero-o), it will be treated as an octal value. This means that the number must contain digits taken from the [0..7] range only.\n",
    "\n",
    " \n",
    "\n",
    "0o123 is an octal number with a (decimal) value equal to 83."
   ]
  },
  {
   "cell_type": "code",
   "execution_count": 1,
   "metadata": {},
   "outputs": [
    {
     "name": "stdout",
     "output_type": "stream",
     "text": [
      "83\n"
     ]
    }
   ],
   "source": [
    "print(0o123)"
   ]
  },
  {
   "cell_type": "markdown",
   "metadata": {},
   "source": [
    "## 1.2.7 Literals – integers\n",
    " \n",
    "\n",
    "The second allows us to use hexadecimal numbers. Such numbers should be preceded by the prefix 0x or 0X (zero-x).\n",
    "\n",
    " \n",
    "\n",
    "0x123 is a hexadecimal number with a (decimal) value equal to 291. The print() function can manage these values too →"
   ]
  },
  {
   "cell_type": "code",
   "execution_count": 2,
   "metadata": {},
   "outputs": [
    {
     "name": "stdout",
     "output_type": "stream",
     "text": [
      "291\n"
     ]
    }
   ],
   "source": [
    "print(0x123)"
   ]
  },
  {
   "cell_type": "markdown",
   "metadata": {},
   "source": [
    "## 1.2.12 Literals – floats\n",
    " \n",
    "\n",
    "But it’s not only points that make a float. You can also use the letter e.\n",
    "\n",
    "When you want to use any numbers that are very large or very small, you can use scientific notation.\n",
    "\n",
    " \n",
    "\n",
    "Take, for example, the speed of light, expressed in meters per second. Written directly it would look like this:\n",
    "\n",
    "300000000\n",
    "\n",
    " \n",
    "\n",
    "To avoid writing out so many zeros, physics textbooks use an abbreviated form, which you have probably already seen:\n",
    "\n",
    "3 × 108\n",
    "\n",
    " \n",
    "\n",
    "It reads: three times ten to the power of eight\n",
    "\n",
    " \n",
    "\n",
    "In Python, the same effect is achieved in a slightly different way – take a look:\n",
    "\n",
    "3E8\n",
    "\n",
    " \n",
    "\n",
    "The letter E (you can also use the lower-case letter e – it comes from the word exponent) is a concise record of the phrase times ten to the power of.\n",
    "\n",
    " \n",
    "\n",
    "Note:\n",
    "\n",
    "the exponent (the value after the E) has to be an integer;\n",
    "\n",
    "the base (the value in front of the E) may be an integer."
   ]
  },
  {
   "cell_type": "code",
   "execution_count": 2,
   "metadata": {},
   "outputs": [
    {
     "data": {
      "text/plain": [
       "6e+16"
      ]
     },
     "execution_count": 2,
     "metadata": {},
     "output_type": "execute_result"
    }
   ],
   "source": [
    "3E8\n",
    "6e16"
   ]
  },
  {
   "cell_type": "code",
   "execution_count": 3,
   "metadata": {},
   "outputs": [
    {
     "data": {
      "text/plain": [
       "700000000.0"
      ]
     },
     "execution_count": 3,
     "metadata": {},
     "output_type": "execute_result"
    }
   ],
   "source": [
    "7e8\n"
   ]
  },
  {
   "cell_type": "code",
   "execution_count": 4,
   "metadata": {},
   "outputs": [
    {
     "name": "stdout",
     "output_type": "stream",
     "text": [
      "1e-22\n"
     ]
    }
   ],
   "source": [
    "print(0.0000000000000000000001)"
   ]
  },
  {
   "cell_type": "code",
   "execution_count": 5,
   "metadata": {},
   "outputs": [
    {
     "data": {
      "text/plain": [
       "'I am a string'"
      ]
     },
     "execution_count": 5,
     "metadata": {},
     "output_type": "execute_result"
    }
   ],
   "source": [
    "\"I am a string\""
   ]
  },
  {
   "cell_type": "code",
   "execution_count": null,
   "metadata": {},
   "outputs": [],
   "source": []
  }
 ],
 "metadata": {
  "kernelspec": {
   "display_name": "Python 3",
   "language": "python",
   "name": "python3"
  },
  "language_info": {
   "codemirror_mode": {
    "name": "ipython",
    "version": 3
   },
   "file_extension": ".py",
   "mimetype": "text/x-python",
   "name": "python",
   "nbconvert_exporter": "python",
   "pygments_lexer": "ipython3",
   "version": "3.7.3"
  }
 },
 "nbformat": 4,
 "nbformat_minor": 2
}
