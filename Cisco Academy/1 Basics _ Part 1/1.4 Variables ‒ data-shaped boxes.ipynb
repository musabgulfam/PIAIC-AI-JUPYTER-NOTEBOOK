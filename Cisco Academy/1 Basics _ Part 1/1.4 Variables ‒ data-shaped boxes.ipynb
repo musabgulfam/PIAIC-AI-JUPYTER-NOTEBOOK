{
 "cells": [
  {
   "cell_type": "markdown",
   "metadata": {},
   "source": [
    "## pythagoras\n"
   ]
  },
  {
   "cell_type": "code",
   "execution_count": 1,
   "metadata": {},
   "outputs": [
    {
     "name": "stdout",
     "output_type": "stream",
     "text": [
      "c =  5.0\n"
     ]
    }
   ],
   "source": [
    "a = 3.0\n",
    "b = 4.0\n",
    "c= (a**2 + b**2)**0.5\n",
    "print(\"c = \",c)"
   ]
  },
  {
   "cell_type": "code",
   "execution_count": 2,
   "metadata": {},
   "outputs": [
    {
     "name": "stdout",
     "output_type": "stream",
     "text": [
      "3,5,6\n",
      "14\n",
      "14\n",
      "7.0 7 196 9\n",
      "Total number of apples: 14\n"
     ]
    }
   ],
   "source": [
    "# Sample Solution\n",
    "\n",
    "# assigning values to variables\n",
    "John = 3\n",
    "Mary = 5\n",
    "Adam = 6\n",
    "\n",
    "# printing variables on one line\n",
    "print(John, Mary, Adam, sep=\",\")\n",
    "\n",
    "# adding variables and printing the result\n",
    "print(John+Mary+Adam)\n",
    "\n",
    "# creating the variable Total_Apples\n",
    "Total_Apples = John + Mary + Adam\n",
    "print(Total_Apples)\n",
    "\n",
    "# Experimenting\n",
    "print(Total_Apples / 2, Total_Apples // 2, Total_Apples ** 2, Total_Apples - Mary)\n",
    "print(\"Total number of apples:\", Total_Apples)"
   ]
  },
  {
   "cell_type": "code",
   "execution_count": 7,
   "metadata": {},
   "outputs": [
    {
     "name": "stdout",
     "output_type": "stream",
     "text": [
      "3 5 6\n"
     ]
    }
   ],
   "source": [
    "# Sample Solution\n",
    "\n",
    "# assigning values to variables\n",
    "John = 3\n",
    "Mary = 5\n",
    "Adam = 6\n",
    "\n",
    "# printing variables on one line\n",
    "print(John, Mary, Adam)"
   ]
  },
  {
   "cell_type": "code",
   "execution_count": 6,
   "metadata": {},
   "outputs": [
    {
     "name": "stdout",
     "output_type": "stream",
     "text": [
      "3,5,6\n"
     ]
    }
   ],
   "source": [
    "# Sample Solution\n",
    "\n",
    "# assigning values to variables\n",
    "John = 3\n",
    "Mary = 5\n",
    "Adam = 6\n",
    "\n",
    "# printing variables on one line\n",
    "print(John, Mary, Adam, sep=\",\")"
   ]
  },
  {
   "attachments": {},
   "cell_type": "markdown",
   "metadata": {},
   "source": [
    "## 1.4.13 Shortcut operators\n",
    "Python offers you a shortened way of writing operations like these, which can be coded as follows →\n"
   ]
  },
  {
   "attachments": {},
   "cell_type": "markdown",
   "metadata": {},
   "source": [
    "## 1.4.14 Shortcut operators\n",
    " \n",
    "\n",
    "Let’s try to present a general description for these operations.\n",
    "\n",
    "If op is a two-argument operator (this is a very important condition) and the operator is used in the following context:\n",
    "\n",
    " \n",
    "\n",
    "variable = variable op expression;\n",
    "\n",
    " \n",
    "\n",
    "It can be simplified and shown as follows:\n",
    "\n",
    " \n",
    "\n",
    "variable op= expression;\n",
    "\n",
    " \n",
    "\n",
    "Take a look at the examples →\n",
    "\n",
    "Make sure that you understand them all."
   ]
  },
  {
   "cell_type": "code",
   "execution_count": 12,
   "metadata": {},
   "outputs": [
    {
     "data": {
      "text/plain": [
       "4"
      ]
     },
     "execution_count": 12,
     "metadata": {},
     "output_type": "execute_result"
    }
   ],
   "source": [
    "x=2\n",
    "x*=2\n",
    "x\n"
   ]
  }
 ],
 "metadata": {
  "kernelspec": {
   "display_name": "Python 3",
   "language": "python",
   "name": "python3"
  },
  "language_info": {
   "codemirror_mode": {
    "name": "ipython",
    "version": 3
   },
   "file_extension": ".py",
   "mimetype": "text/x-python",
   "name": "python",
   "nbconvert_exporter": "python",
   "pygments_lexer": "ipython3",
   "version": "3.7.3"
  }
 },
 "nbformat": 4,
 "nbformat_minor": 2
}
