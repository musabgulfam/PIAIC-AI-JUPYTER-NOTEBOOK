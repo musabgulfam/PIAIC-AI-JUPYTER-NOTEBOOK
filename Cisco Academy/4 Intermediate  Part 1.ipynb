{
 "cells": [
  {
   "cell_type": "markdown",
   "metadata": {},
   "source": [
    "# 4.1 Using modules "
   ]
  },
  {
   "cell_type": "code",
   "execution_count": null,
   "metadata": {},
   "outputs": [],
   "source": []
  },
  {
   "cell_type": "code",
   "execution_count": null,
   "metadata": {},
   "outputs": [],
   "source": []
  },
  {
   "cell_type": "code",
   "execution_count": null,
   "metadata": {},
   "outputs": [],
   "source": []
  },
  {
   "cell_type": "code",
   "execution_count": null,
   "metadata": {},
   "outputs": [],
   "source": []
  },
  {
   "cell_type": "code",
   "execution_count": null,
   "metadata": {},
   "outputs": [],
   "source": []
  },
  {
   "cell_type": "code",
   "execution_count": null,
   "metadata": {},
   "outputs": [],
   "source": []
  },
  {
   "attachments": {
    "image.png": {
     "image/png": "[encoded data removed]"
    }
   },
   "cell_type": "markdown",
   "metadata": {},
   "source": [
    "## 4.1.10 Importing a module\n",
    " \n",
    "\n",
    "This first example won’t be very advanced – we just want to print the value of sin(1⁄2π).\n",
    "\n",
    "This is how to test it →\n",
    "![image.png](attachment:image.png)\n",
    "https://education.pythoninstitute.org/course_datas/materials/view_file/373\n",
    " \n",
    "The code outputs the expected value:\n",
    "\n",
    "          1.0\n",
    "\n",
    " \n",
    "\n",
    "Note: removing any of the two qualifications will make the code erroneous. There is no other way to enter math’s namespace if you did the following:\n",
    "\n",
    "import math "
   ]
  },
  {
   "cell_type": "code",
   "execution_count": 1,
   "metadata": {},
   "outputs": [
    {
     "name": "stdout",
     "output_type": "stream",
     "text": [
      "1.0\n"
     ]
    }
   ],
   "source": [
    "import math\n",
    "\n",
    "print(math.sin(math.pi/2))\n"
   ]
  },
  {
   "attachments": {
    "image.png": {
     "image/png": "[encoded data removed]"
    }
   },
   "cell_type": "markdown",
   "metadata": {},
   "source": [
    "## 4.1.11 Importing a module\n",
    " \n",
    "\n",
    "Now we’re going to show you how the two namespaces (yours and the module’s one) can coexist.\n",
    "\n",
    "\n",
    "Take a look at the example →\n",
    "![image.png](attachment:image.png)\n",
    "https://education.pythoninstitute.org/course_datas/materials/view_file/374\n",
    " \n",
    "\n",
    "We’ve defined our own pi and sin here.\n",
    "\n",
    "The code produces the following output:\n",
    "\n",
    "0.99999999\n",
    "1.0\n",
    "\n",
    " \n",
    "\n",
    "As you can see, the entities don’t affect each other. "
   ]
  },
  {
   "cell_type": "code",
   "execution_count": 2,
   "metadata": {},
   "outputs": [
    {
     "name": "stdout",
     "output_type": "stream",
     "text": [
      "0.99999999\n",
      "1.0\n"
     ]
    }
   ],
   "source": [
    "import math\n",
    "\n",
    "def sin(x):\n",
    "\tif 2 * x == pi:\n",
    "\t\treturn 0.99999999\n",
    "\telse:\n",
    "\t\treturn None\n",
    "pi = 3.14\n",
    "print(sin(pi/2))\n",
    "print(math.sin(math.pi/2))\n"
   ]
  },
  {
   "attachments": {
    "image.png": {
     "image/png": "[encoded data removed]"
    }
   },
   "cell_type": "markdown",
   "metadata": {},
   "source": [
    "## 4.1.12 Importing a module\n",
    " \n",
    "\n",
    "In the second method, the import’s syntax precisely points out which module’s entity (or entities) are acceptable in the code →\n",
    "![image.png](attachment:image.png)\n",
    "\n",
    "The instruction consists of the following elements:\n",
    "\n",
    "the from keyword;\n",
    "the name of the module to be (selectively) imported;\n",
    "the import keyword;\n",
    "the name or list of names of the entity/entities which are being imported into the namespace.\n",
    " \n",
    "\n",
    "The instruction has this effect:\n",
    "\n",
    "the listed entities (and only those ones) are imported from the indicated module;\n",
    "the names of the imported entities are accessible without qualification.\n",
    " \n",
    "\n",
    "Note: no other entities are imported. Moreover, you cannot import additional entities using a qualification – a line like this one:\n",
    "\n",
    "      print(math.e)\n",
    "\n",
    "will cause an error (e is Euler’s number: 2.71828...)\n",
    "\n",
    "Let’s rewrite the previous script to incorporate the new technique."
   ]
  },
  {
   "cell_type": "code",
   "execution_count": 3,
   "metadata": {},
   "outputs": [
    {
     "name": "stdout",
     "output_type": "stream",
     "text": [
      "2.718281828459045\n"
     ]
    }
   ],
   "source": [
    "print(math.e)"
   ]
  },
  {
   "attachments": {
    "image.png": {
     "image/png": "[encoded data removed]"
    }
   },
   "cell_type": "markdown",
   "metadata": {},
   "source": [
    "## \n",
    "4.1.13 Importing a module\n",
    " \n",
    "\n",
    "Here it is →![image.png](attachment:image.png)\n",
    "https://education.pythoninstitute.org/course_datas/materials/view_file/375\n",
    "\n",
    "The output is the same as previously, as in fact we’ve used the same entities as before:\n",
    "\n",
    " \n",
    "\n",
    "1.0\n",
    "\n",
    " \n",
    "\n",
    "Does the code look simpler? Maybe, but the look is not the only effect of this kind of import. Let’s show you that."
   ]
  },
  {
   "cell_type": "code",
   "execution_count": 4,
   "metadata": {},
   "outputs": [
    {
     "name": "stdout",
     "output_type": "stream",
     "text": [
      "1.0\n"
     ]
    }
   ],
   "source": [
    "from math import sin,pi\n",
    "\n",
    "print(sin(pi/2))\n"
   ]
  },
  {
   "cell_type": "code",
   "execution_count": 1,
   "metadata": {},
   "outputs": [
    {
     "name": "stdout",
     "output_type": "stream",
     "text": [
      "1.0\n",
      "0.99999999\n"
     ]
    }
   ],
   "source": [
    "from math import sin,pi\n",
    "print(sin(pi/2))\n",
    "pi = 3.14\n",
    "def sin(x):\n",
    "\tif 2 * x == pi:\n",
    "\t\treturn 0.99999999\n",
    "\telse:\n",
    "\t\treturn None\n",
    "print(sin(pi/2))\n"
   ]
  },
  {
   "cell_type": "code",
   "execution_count": 2,
   "metadata": {},
   "outputs": [
    {
     "name": "stdout",
     "output_type": "stream",
     "text": [
      "0.99999999\n",
      "1.0\n"
     ]
    }
   ],
   "source": [
    "pi = 3.14\n",
    "def sin(x):\n",
    "\tif 2 * x == pi:\n",
    "\t\treturn 0.99999999\n",
    "\telse:\n",
    "\t\treturn None\n",
    "print(sin(pi/2))\n",
    "from math import sin,pi\n",
    "print(sin(pi/2))"
   ]
  },
  {
   "cell_type": "code",
   "execution_count": null,
   "metadata": {},
   "outputs": [],
   "source": []
  }
 ],
 "metadata": {
  "kernelspec": {
   "display_name": "Python 3",
   "language": "python",
   "name": "python3"
  },
  "language_info": {
   "codemirror_mode": {
    "name": "ipython",
    "version": 3
   },
   "file_extension": ".py",
   "mimetype": "text/x-python",
   "name": "python",
   "nbconvert_exporter": "python",
   "pygments_lexer": "ipython3",
   "version": "3.7.3"
  }
 },
 "nbformat": 4,
 "nbformat_minor": 2
}
