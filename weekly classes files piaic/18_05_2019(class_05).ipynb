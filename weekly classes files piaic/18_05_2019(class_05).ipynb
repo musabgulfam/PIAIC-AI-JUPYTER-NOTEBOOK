{
 "cells": [
  {
   "cell_type": "markdown",
   "metadata": {},
   "source": [
    "## nested if statement"
   ]
  },
  {
   "cell_type": "code",
   "execution_count": null,
   "metadata": {},
   "outputs": [],
   "source": [
    "#  ().lower()\n",
    "# case change lower == small\n",
    "\n",
    "user_cnic = (input(\"Do you have CNIC :\")).lower()\n",
    "if user_cnic == \"yes\":\n",
    "    print(\"He has valid CNIC\")\n",
    "    voter_list = (input(\"Is your name in the voter list :\")).lower()\n",
    "    if voter_list == \"yes\" :\n",
    "        print(\"Ok ! you are a registered voter\")\n",
    "        print(\"You can cast vote !\")\n",
    "    else:\n",
    "        print(\"Register yourself as voter first\")\n",
    "else:\n",
    "    print(\"You must have your id number in order to cast vote\")\n",
    "    print(\"Thank you for comming\")\n"
   ]
  },
  {
   "cell_type": "code",
   "execution_count": null,
   "metadata": {},
   "outputs": [],
   "source": [
    "user_age = (input(\"Are you 18+ , reply in yes or no !\")).lower()\n",
    "if user_age == \"yes\":\n",
    "    print(\"ok you can watch the show\")\n",
    "    ticket = (input(\"OK ! Please mention if you have the tickek of the show please reply in yes or no\")).lower()\n",
    "    if ticket == \"yes\":\n",
    "        print(\"ok ! you can enter the theater\")\n",
    "    else:\n",
    "        print(\"You must have ticket to enter the theater\")\n",
    "else:\n",
    "    print(\"Sorry ! You must be 18+ in order to watch the show\")\n"
   ]
  },
  {
   "cell_type": "markdown",
   "metadata": {},
   "source": [
    "#  if elif else\n",
    "\n",
    "You can have any number of elif statements. Each one tries a new test\n",
    "when all the tests above it have failed. If any elif test succeeds, Python\n",
    "executes any statements tied to it, and skips any tests that come afterward."
   ]
  },
  {
   "cell_type": "code",
   "execution_count": null,
   "metadata": {},
   "outputs": [],
   "source": [
    "num1 = int(input(\"Enter the 1st number\"))\n",
    "num2 = int(input(\"Enter the 2nd number\"))\n",
    "if num1>num2:\n",
    "    print(f\"{num1} is greater than {num2}\")\n",
    "elif num1==num2:\n",
    "    print(f\"{num1} is equal to {num2}\")\n",
    "elif num1 < num2:\n",
    "        print(f\" {num1} is less than {num2}\")\n",
    "else:\n",
    "    print(\"NOT determined !\")"
   ]
  },
  {
   "cell_type": "markdown",
   "metadata": {},
   "source": [
    "## logical operator\n"
   ]
  },
  {
   "cell_type": "code",
   "execution_count": null,
   "metadata": {},
   "outputs": [],
   "source": [
    "user_cnic = (input(\"Do you have CNIC :\")).lower()\n",
    "voter_list = (input(\"Is your name in the voter list :\")).lower()\n",
    "if user_cnic == \"yes\" and voter_list == \"yes\":\n",
    "    print(\"allowed to cast\")\n",
    "else:\n",
    "    print(\"Not allowed\")\n"
   ]
  },
  {
   "cell_type": "code",
   "execution_count": null,
   "metadata": {},
   "outputs": [],
   "source": [
    "... werfEWfds\n",
    "fdsf\n",
    "dsfs\n",
    "dfsd..."
   ]
  },
  {
   "cell_type": "code",
   "execution_count": null,
   "metadata": {},
   "outputs": [],
   "source": [
    "'''sadsad\n",
    "sad\n",
    "as\n",
    "dsa\n",
    "d\n",
    "as\n",
    "dsa\n",
    "d\n",
    "asd\n",
    "sa\n",
    "d\n",
    "asd\n",
    "sa\n",
    "ds\n",
    "ad\n",
    "sad\n",
    "as\n",
    "d\n",
    "asd\n",
    "as\n",
    "das\n",
    "d\n",
    "sad\n",
    "sa\n",
    "dsa\n",
    "d ''' \n",
    "\n",
    "\n"
   ]
  },
  {
   "cell_type": "code",
   "execution_count": null,
   "metadata": {},
   "outputs": [],
   "source": [
    "user_cnic = input(\"Do you have CNIC :\").lower()\n",
    "voter_list = (input(\"Is your name in the voter list :\")).lower()\n",
    "if user_cnic == \"yes\" and voter_list == \"yes\":\n",
    "    print(\"allowed to cast\")\n",
    "else:\n",
    "    print(\"Not allowed\")\n"
   ]
  },
  {
   "cell_type": "code",
   "execution_count": null,
   "metadata": {},
   "outputs": [],
   "source": [
    "'''Your .gitignore is shared across team members as a file committed and pushed to the Git repo. To exclude files only on your system without pushing the changes to the rest of your team, edit the .git/info/exclude file in your local repo. Changes to this file will not be shared with others and only apply to the files in that repo. The syntax for this file is the same as the one used in .gitignore.\n",
    "\n",
    "Ignore files across all repos on your system\n",
    "Set up a global .gitignore for use across all repos on your system using the command line git config tool:\n",
    "\n",
    "> git config core.excludesfile C:\\Users\\frank\\.gitignore_global\n",
    "This is particularly useful for ignoring entire file types you don't want to ever commit, such as compiled binaries.\n",
    "\n",
    "Ignore changes to committed files\n",
    "Temporarily ignore changes\n",
    "During development it's convenient to stop tracking file changes to a file committed into your git repo. This is very convenient when customizing settings or configuration files that are part of your project source for your own work environment.\n",
    "\n",
    "> git update-index --assume-unchanged <file>\n",
    "Resume tracking files with:\n",
    "\n",
    "> git update-index --no-assume-unchanged <file>\n",
    "Permanently ignore changes to a file\n",
    "If a file is already tracked by Git, adding that file to your .gitignore is not enough to ignore changes to the file. You also need to remove the information about the file from Git's index:\n",
    "\n",
    "These steps will not delete the file from your system. They just tell Git to ignore future updates to the file.\n",
    "\n",
    "Add the file in your .gitignore.\n",
    "\n",
    "Run the following:\n",
    "\n",
    "> git rm --cached <file>\n",
    "Commit the removal of the file and the updated .gitignore to your repo.\n",
    "\n",
    "Next steps'''"
   ]
  }
 ],
 "metadata": {
  "kernelspec": {
   "display_name": "Python 3",
   "language": "python",
   "name": "python3"
  },
  "language_info": {
   "codemirror_mode": {
    "name": "ipython",
    "version": 3
   },
   "file_extension": ".py",
   "mimetype": "text/x-python",
   "name": "python",
   "nbconvert_exporter": "python",
   "pygments_lexer": "ipython3",
   "version": "3.7.3"
  }
 },
 "nbformat": 4,
 "nbformat_minor": 2
}
