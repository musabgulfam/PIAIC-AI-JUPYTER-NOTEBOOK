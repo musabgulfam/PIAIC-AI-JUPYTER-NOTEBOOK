{
 "cells": [
  {
   "cell_type": "markdown",
   "metadata": {},
   "source": [
    "## print and inputfunction exploration \n",
    "\n"
   ]
  },
  {
   "cell_type": "markdown",
   "metadata": {},
   "source": [
    "#  print(f \"string {}\") \n",
    " \n",
    " input() function always takes the arguments in the form of string "
   ]
  },
  {
   "cell_type": "code",
   "execution_count": 1,
   "metadata": {},
   "outputs": [
    {
     "name": "stdout",
     "output_type": "stream",
     "text": [
      "Enter the number : 1\n",
      "Enter the second number :2\n",
      "Enter the third number :3\n",
      "the first number : 1 the second number : 2 the third number : 3\n"
     ]
    }
   ],
   "source": [
    " \n",
    "x = input(\"Enter the number : \")\n",
    "y = input(\"Enter the second number :\")\n",
    "z = input (\"Enter the third number :\")\n",
    "print(f\"the first number : {x} the second number : {y} the third number : {z}\")"
   ]
  },
  {
   "cell_type": "code",
   "execution_count": 7,
   "metadata": {},
   "outputs": [
    {
     "name": "stdout",
     "output_type": "stream",
     "text": [
      "Enter the number : 1\n",
      "Enter the second number :2\n",
      "Enter the third number :3\n",
      "the first number :1 the second number : 2 the third number : 3\n"
     ]
    }
   ],
   "source": [
    "a = input(\"Enter the first number : \")\n",
    "b = input(\"Enter the second number :\")\n",
    "c = input (\"Enter the third number :\")\n",
    "print(\"the first number :{0} the second number : {1} the third number : {2}\".format(a,b,c))"
   ]
  },
  {
   "cell_type": "code",
   "execution_count": 8,
   "metadata": {},
   "outputs": [
    {
     "name": "stdout",
     "output_type": "stream",
     "text": [
      "Enter the first number : 12\n",
      "Enter the second number : 13\n",
      "1213\n"
     ]
    }
   ],
   "source": [
    "first_num = input(\"Enter the first number : \")\n",
    "sec_num = input(\"Enter the second number : \")\n",
    "print(first_num + sec_num)              ## just concatenate the strings "
   ]
  },
  {
   "cell_type": "code",
   "execution_count": null,
   "metadata": {},
   "outputs": [],
   "source": []
  }
 ],
 "metadata": {
  "kernelspec": {
   "display_name": "Python 3",
   "language": "python",
   "name": "python3"
  },
  "language_info": {
   "codemirror_mode": {
    "name": "ipython",
    "version": 3
   },
   "file_extension": ".py",
   "mimetype": "text/x-python",
   "name": "python",
   "nbconvert_exporter": "python",
   "pygments_lexer": "ipython3",
   "version": "3.7.3"
  }
 },
 "nbformat": 4,
 "nbformat_minor": 2
}
