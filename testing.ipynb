{
 "cells": [
  {
   "cell_type": "code",
   "execution_count": 1,
   "metadata": {},
   "outputs": [
    {
     "name": "stdout",
     "output_type": "stream",
     "text": [
      "Enter the first number : 14\n",
      "Enter the second number :78\n",
      "Enter the third number :90002165468454\n",
      "the first number :14 the second number : 78 the third number : 90002165468454\n"
     ]
    }
   ],
   "source": [
    "a = input(\"Enter the first number : \")\n",
    "b = input(\"Enter the second number :\")\n",
    "c = input (\"Enter the third number :\")\n",
    "print(\"the first number :{0} the second number : {1} the third number : {2}\".format(a,b,c))"
   ]
  },
  {
   "cell_type": "code",
   "execution_count": null,
   "metadata": {},
   "outputs": [],
   "source": []
  }
 ],
 "metadata": {
  "kernelspec": {
   "display_name": "Python 3",
   "language": "python",
   "name": "python3"
  },
  "language_info": {
   "codemirror_mode": {
    "name": "ipython",
    "version": 3
   },
   "file_extension": ".py",
   "mimetype": "text/x-python",
   "name": "python",
   "nbconvert_exporter": "python",
   "pygments_lexer": "ipython3",
   "version": "3.7.3"
  }
 },
 "nbformat": 4,
 "nbformat_minor": 2
}
